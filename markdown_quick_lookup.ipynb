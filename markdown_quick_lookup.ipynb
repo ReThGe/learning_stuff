{
 "cells": [
  {
   "cell_type": "markdown",
   "id": "f488dadb",
   "metadata": {},
   "source": [
    "# L1\n",
    "\n",
    "## L2\n",
    "\n",
    "### L3"
   ]
  },
  {
   "cell_type": "markdown",
   "id": "5cb7dcdf",
   "metadata": {},
   "source": [
    "**Bold**\n",
    "\n",
    "**_lean and bold**\n",
    "\n",
    "~delete line~\n",
    "\n",
    "`high light`\n"
   ]
  },
  {
   "cell_type": "markdown",
   "id": "99406269",
   "metadata": {},
   "source": [
    "> layer 1\n",
    ">> layer 2"
   ]
  },
  {
   "cell_type": "markdown",
   "id": "46d4fde2",
   "metadata": {},
   "source": [
    "* marker 1\n",
    "+ marker 2\n",
    "- marker 3\n",
    "\n",
    "1. marker 1\n",
    "2. marker 2\n",
    "\n",
    "[web]www.baidu.com\n",
    "\n",
    "**---cross line---**\n",
    "***\n",
    "---"
   ]
  },
  {
   "cell_type": "code",
   "execution_count": null,
   "id": "26506f4d",
   "metadata": {},
   "outputs": [],
   "source": [
    "# 换行使用<p>或<br>、<br />、<br/>，其中<p>的行距会比<br>的行距大"
   ]
  },
  {
   "cell_type": "markdown",
   "id": "c05430e0",
   "metadata": {},
   "source": [
    "line 0 <p>\n",
    "line 1 <p>\n",
    "line 2 <br>\n",
    "line 3 <br />"
   ]
  },
  {
   "cell_type": "markdown",
   "id": "7cc37161",
   "metadata": {},
   "source": [
    "a|b|cdef\n",
    "----|----|----\n",
    "1|2|35\n",
    "2|2|66"
   ]
  },
  {
   "cell_type": "markdown",
   "id": "7f5c693b",
   "metadata": {},
   "source": [
    "$\\sqrt{x^2+y^2}$"
   ]
  },
  {
   "cell_type": "markdown",
   "id": "c4466be4",
   "metadata": {},
   "source": [
    "$$f(x)=\\sum_{i=0}^{N}\\int_{a}^{b} g(t,i)\\text{d}t \\tag{a}$$"
   ]
  },
  {
   "cell_type": "markdown",
   "id": "e96b6a9a",
   "metadata": {},
   "source": [
    "- [x] done\n",
    "- [ ] unfinishied"
   ]
  }
 ],
 "metadata": {
  "kernelspec": {
   "display_name": "Python 3 (ipykernel)",
   "language": "python",
   "name": "python3"
  },
  "language_info": {
   "codemirror_mode": {
    "name": "ipython",
    "version": 3
   },
   "file_extension": ".py",
   "mimetype": "text/x-python",
   "name": "python",
   "nbconvert_exporter": "python",
   "pygments_lexer": "ipython3",
   "version": "3.9.13"
  }
 },
 "nbformat": 4,
 "nbformat_minor": 5
}
